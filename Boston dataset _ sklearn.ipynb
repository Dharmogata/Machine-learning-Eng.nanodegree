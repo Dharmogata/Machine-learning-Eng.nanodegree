{
 "cells": [
  {
   "cell_type": "markdown",
   "metadata": {},
   "source": [
    "# Sklearn\n",
    "sklearn.liner_model\\\n",
    "linear_model:\\\n",
    "RidgeClassifier\\\n",
    "SGDClassifier\\\n",
    "SGDRegressor\\\n",
    "LinearRegression\\\n",
    "LogisticRegression\\\n",
    "Lasso\\\n",
    "etc"
   ]
  },
  {
   "cell_type": "markdown",
   "metadata": {},
   "source": [
    "документация: http://scikit-learn.org/stable/modules/classes.html#module-sklearn.linear_model\n",
    " , примеры: http://scikit-learn.org/stable/modules/linear_model.html#linear-model"
   ]
  },
  {
   "cell_type": "code",
   "execution_count": 4,
   "metadata": {
    "collapsed": false
   },
   "outputs": [],
   "source": [
    "from matplotlib.colors import ListedColormap\n",
    "from sklearn import cross_validation, datasets, linear_model, metrics\n",
    "\n",
    "import numpy as np"
   ]
  },
  {
   "cell_type": "code",
   "execution_count": 5,
   "metadata": {
    "collapsed": false
   },
   "outputs": [
    {
     "name": "stdout",
     "output_type": "stream",
     "text": [
      "Populating the interactive namespace from numpy and matplotlib\n"
     ]
    }
   ],
   "source": [
    "%pylab inline"
   ]
  },
  {
   "cell_type": "code",
   "execution_count": 9,
   "metadata": {
    "collapsed": false
   },
   "outputs": [],
   "source": [
    "boston = datasets.load_boston()"
   ]
  },
  {
   "cell_type": "markdown",
   "metadata": {},
   "source": [
    "\n",
    "## sklearn.cross_validation"
   ]
  },
  {
   "cell_type": "code",
   "execution_count": 34,
   "metadata": {
    "collapsed": true
   },
   "outputs": [],
   "source": [
    "train_data, test_data, train_labels, test_labels = cross_validation.train_test_split(boston.data, boston.target, \n",
    "                                                                                     test_size = 0.3)"
   ]
  },
  {
   "cell_type": "code",
   "execution_count": 57,
   "metadata": {
    "collapsed": false
   },
   "outputs": [
    {
     "name": "stdout",
     "output_type": "stream",
     "text": [
      "training sample size: 354 objects \n",
      " The size of the test sample: 152 objects\n"
     ]
    }
   ],
   "source": [
    "print 'training sample size: {} objects \\n The size of the test sample: {} objects'.format(len(train_data),\n",
    "                                                                                            len(test_data))"
   ]
  },
  {
   "cell_type": "code",
   "execution_count": 58,
   "metadata": {
    "collapsed": false
   },
   "outputs": [
    {
     "name": "stdout",
     "output_type": "stream",
     "text": [
      "training set:\n",
      "[[  4.81213000e+00   0.00000000e+00   1.81000000e+01   0.00000000e+00\n",
      "    7.13000000e-01   6.70100000e+00   9.00000000e+01   2.59750000e+00\n",
      "    2.40000000e+01   6.66000000e+02   2.02000000e+01   2.55230000e+02\n",
      "    1.64200000e+01]\n",
      " [  1.31100000e-02   9.00000000e+01   1.22000000e+00   0.00000000e+00\n",
      "    4.03000000e-01   7.24900000e+00   2.19000000e+01   8.69660000e+00\n",
      "    5.00000000e+00   2.26000000e+02   1.79000000e+01   3.95930000e+02\n",
      "    4.81000000e+00]\n",
      " [  7.05042000e+00   0.00000000e+00   1.81000000e+01   0.00000000e+00\n",
      "    6.14000000e-01   6.10300000e+00   8.51000000e+01   2.02180000e+00\n",
      "    2.40000000e+01   6.66000000e+02   2.02000000e+01   2.52000000e+00\n",
      "    2.32900000e+01]\n",
      " [  9.55770000e-01   0.00000000e+00   8.14000000e+00   0.00000000e+00\n",
      "    5.38000000e-01   6.04700000e+00   8.88000000e+01   4.45340000e+00\n",
      "    4.00000000e+00   3.07000000e+02   2.10000000e+01   3.06380000e+02\n",
      "    1.72800000e+01]\n",
      " [  1.27346000e+00   0.00000000e+00   1.95800000e+01   1.00000000e+00\n",
      "    6.05000000e-01   6.25000000e+00   9.26000000e+01   1.79840000e+00\n",
      "    5.00000000e+00   4.03000000e+02   1.47000000e+01   3.38920000e+02\n",
      "    5.50000000e+00]]\n",
      "\n",
      "\n",
      "The test sample:\n",
      "[[  8.70700000e-02   0.00000000e+00   1.28300000e+01   0.00000000e+00\n",
      "    4.37000000e-01   6.14000000e+00   4.58000000e+01   4.09050000e+00\n",
      "    5.00000000e+00   3.98000000e+02   1.87000000e+01   3.86960000e+02\n",
      "    1.02700000e+01]\n",
      " [  6.56650000e-01   2.00000000e+01   3.97000000e+00   0.00000000e+00\n",
      "    6.47000000e-01   6.84200000e+00   1.00000000e+02   2.01070000e+00\n",
      "    5.00000000e+00   2.64000000e+02   1.30000000e+01   3.91930000e+02\n",
      "    6.90000000e+00]\n",
      " [  8.37000000e-02   4.50000000e+01   3.44000000e+00   0.00000000e+00\n",
      "    4.37000000e-01   7.18500000e+00   3.89000000e+01   4.56670000e+00\n",
      "    5.00000000e+00   3.98000000e+02   1.52000000e+01   3.96900000e+02\n",
      "    5.39000000e+00]\n",
      " [  6.88800000e-02   0.00000000e+00   2.46000000e+00   0.00000000e+00\n",
      "    4.88000000e-01   6.14400000e+00   6.22000000e+01   2.59790000e+00\n",
      "    3.00000000e+00   1.93000000e+02   1.78000000e+01   3.96900000e+02\n",
      "    9.45000000e+00]\n",
      " [  5.29305000e+00   0.00000000e+00   1.81000000e+01   0.00000000e+00\n",
      "    7.00000000e-01   6.05100000e+00   8.25000000e+01   2.16780000e+00\n",
      "    2.40000000e+01   6.66000000e+02   2.02000000e+01   3.78380000e+02\n",
      "    1.87600000e+01]]\n"
     ]
    }
   ],
   "source": [
    "print 'training set:\\n', train_data[:5]\n",
    "print '\\n'\n",
    "print 'The test sample:\\n', test_data[:5]"
   ]
  },
  {
   "cell_type": "code",
   "execution_count": 59,
   "metadata": {
    "collapsed": false
   },
   "outputs": [
    {
     "name": "stdout",
     "output_type": "stream",
     "text": [
      "Tags classes on the training set:\n",
      "[ 16.4  35.4  13.4  14.8  27.   22.   23.4  50.   20.1  22.8  12.7  21.2\n",
      "  20.6  16.6  24.4  14.1  13.1  21.6  15.2  29.8  29.6  33.    8.8  15.6\n",
      "  22.3  23.1  20.6  28.2  14.9  14.5  25.   37.6  20.1  13.6  19.8  20.2\n",
      "  29.9  21.7  21.7  22.2  26.4  37.2  18.4  19.4  11.7  21.8  23.4  23.1\n",
      "  18.2  18.   14.   22.2  29.6  21.1  29.4  20.1  17.1  21.7  22.5  11.9\n",
      "  36.5  21.2  16.7   9.5  13.4  33.3  18.9  23.2  22.   17.1  18.9  36.\n",
      "  12.8  20.    5.   23.3  14.1  24.1  25.   18.7  13.4  21.   20.4  26.5\n",
      "  25.   30.5  22.2  17.5   8.8  22.6  23.1  28.7  33.1  50.   21.6  20.9\n",
      "  10.4  29.   48.5  17.2  21.2  21.7  10.2  22.7  11.8  15.4  23.7  18.6\n",
      "  22.8  18.5  21.5  31.6  23.9  13.8  15.6  22.   21.1  20.8  32.9  24.8\n",
      "  19.3  20.9  20.7  14.9  23.8  50.   50.   41.3  50.   12.7   8.3  23.8\n",
      "  22.9  23.9  21.9  15.   23.3  17.8  17.4  19.6  50.   38.7  36.2  10.2\n",
      "  31.2  23.6  25.2  24.2  24.6  30.1   6.3  25.1  20.4  13.1  50.   11.\n",
      "  18.5  13.8  19.3   8.4  36.1  28.4  14.1  22.4  37.   19.1  19.1  24.8\n",
      "  19.8  35.2  23.2  24.1  13.5  28.4  37.3  50.   17.8  18.8  11.5  34.7\n",
      "  23.   22.9  20.6  13.5  15.   14.5  21.2  30.1  22.   17.5  18.7  14.5\n",
      "  11.9  16.8  13.   27.5  12.6  22.9  22.6  22.8   7.   19.8  13.1  16.2\n",
      "  25.   19.4  21.2  13.2  18.2  18.6  15.4  32.5  19.6  25.   19.2  24.5\n",
      "  20.8  21.7  24.6  26.6  20.3   7.   50.   48.8  19.5  18.5  19.6  24.7\n",
      "  46.   23.9  17.4  10.9  17.1  32.2  23.   19.3  19.   17.5  12.3  18.2\n",
      "  33.4  30.3  13.3  43.1  11.7  23.3  19.   50.   24.7  19.5  31.5  48.3\n",
      "  12.5  29.1  28.7  15.6  32.4  23.6  33.1  16.1  23.   17.3  17.2  37.9\n",
      "  13.3  20.1  10.8  20.   50.   17.4  23.2  33.8  11.8  20.   19.3  13.8\n",
      "  14.6  23.3  21.7  19.6   8.1   7.5  15.7  23.9  15.3  21.4  20.6  20.6\n",
      "  16.2  24.3  21.9  31.7  25.3  22.6  23.1  30.8  44.   26.6   9.7  16.6\n",
      "  22.   15.1  28.1  19.9  24.   18.3  16.3  22.   18.9  24.8  20.4  19.9\n",
      "  21.8  29.   13.9  20.2  27.1  18.3  28.7  11.3  13.4  33.2  20.5  27.5\n",
      "  21.4  24.3  12.7  23.1  14.4  30.7  31.1  20.6  19.4  22.2  26.6  21.7\n",
      "  13.3  24.3  10.2  19.5  20.7  20.   13.8  29.8  21.9  19.6  28.6  32.\n",
      "  22.   16.5  21.   17.   25.   21. ]\n",
      "\n",
      "\n",
      "Tags classes on the test sample:\n",
      "[ 20.8  30.1  34.9  36.2  23.2  24.5  24.5  32.7  24.   15.2  23.8  25.\n",
      "  28.    7.2  15.   18.4  23.7  24.1  14.3  18.8  21.4  19.4  18.1  19.9\n",
      "  17.8  44.8  10.5  19.7  19.4  33.4  22.6  20.1  16.8  19.1  16.1  26.2\n",
      "  12.1  26.4  22.6   8.5  22.5  24.4   8.3  23.1  16.1  33.2  35.4  24.8\n",
      "  35.1  17.6  17.2  43.5  18.7  50.   21.4  23.7  41.7  15.6  22.4  39.8\n",
      "  32.   27.5  24.4  14.3  34.9  20.3  27.5  36.4  18.5  19.7  22.1  16.\n",
      "   8.7  23.9  50.   45.4  42.3  27.9  19.5  10.5  28.5  22.3  20.3  13.9\n",
      "  29.1  31.   14.2  24.4  23.   18.9  12.   20.5  15.6  13.6  19.9  22.9\n",
      "  34.9  31.5  21.4  17.7  16.5  46.7  20.   31.6  19.3   5.   14.9  27.9\n",
      "  19.1  17.8  34.6  10.9  20.3  15.2  50.    8.5  19.2  20.4  22.8  23.7\n",
      "  13.1  21.5  23.8  43.8  24.7  50.   22.5   7.4  23.1  26.7   7.2   5.6\n",
      "   9.6   8.4  10.4  42.8  23.5  14.4  22.7  17.8  13.8  50.   25.   22.2\n",
      "  14.6  20.5  16.7  18.4  27.1  19.4   7.2  17.9]\n"
     ]
    }
   ],
   "source": [
    "print 'Tags classes on the training set:\\n', train_labels\n",
    "print '\\n'\n",
    "print 'Tags classes on the test sample:\\n', test_labels"
   ]
  },
  {
   "cell_type": "markdown",
   "metadata": {},
   "source": [
    "\n",
    "## KFold"
   ]
  },
  {
   "cell_type": "code",
   "execution_count": 39,
   "metadata": {
    "collapsed": false
   },
   "outputs": [
    {
     "name": "stdout",
     "output_type": "stream",
     "text": [
      "[2 3 4 5 6 7 8 9] [0 1]\n",
      "[0 1 4 5 6 7 8 9] [2 3]\n",
      "[0 1 2 3 6 7 8 9] [4 5]\n",
      "[0 1 2 3 4 5 8 9] [6 7]\n",
      "[0 1 2 3 4 5 6 7] [8 9]\n"
     ]
    }
   ],
   "source": [
    "for train_indices, test_indices in cross_validation.KFold(10, n_folds = 5):\n",
    "    print train_indices, test_indices"
   ]
  },
  {
   "cell_type": "code",
   "execution_count": 40,
   "metadata": {
    "collapsed": false
   },
   "outputs": [
    {
     "name": "stdout",
     "output_type": "stream",
     "text": [
      "[1 4 7 8 9] [0 2 3 5 6]\n",
      "[0 2 3 5 6] [1 4 7 8 9]\n"
     ]
    }
   ],
   "source": [
    "for train_indices, test_indices in cross_validation.KFold(10, n_folds = 2, shuffle = True):\n",
    "    print train_indices, test_indices"
   ]
  },
  {
   "cell_type": "code",
   "execution_count": null,
   "metadata": {
    "collapsed": true
   },
   "outputs": [],
   "source": [
    "for train_indices, test_indices in cross_validation.KFold(10, n_folds = 2, shuffle = True, random_state = 1):\n",
    "    print train_indices, test_indices"
   ]
  },
  {
   "cell_type": "markdown",
   "metadata": {},
   "source": [
    "## StratifiedKFold"
   ]
  },
  {
   "cell_type": "code",
   "execution_count": 41,
   "metadata": {
    "collapsed": false
   },
   "outputs": [
    {
     "name": "stdout",
     "output_type": "stream",
     "text": [
      "[0 0 0 0 0 1 1 1 1 1]\n",
      "[3 4 8 9] [0 1 2 5 6 7]\n",
      "[0 1 2 5 6 7] [3 4 8 9]\n"
     ]
    }
   ],
   "source": [
    "target = np.array([0] * 5 + [1] * 5)\n",
    "print target\n",
    "for train_indices, test_indices in cross_validation.StratifiedKFold(target, n_folds = 2, shuffle = True, random_state = 0):\n",
    "    print train_indices, test_indices"
   ]
  },
  {
   "cell_type": "code",
   "execution_count": 42,
   "metadata": {
    "collapsed": false
   },
   "outputs": [
    {
     "name": "stdout",
     "output_type": "stream",
     "text": [
      "[0 1 0 1 0 1 0 1 0 1]\n",
      "[1 2 5 8] [0 3 4 6 7 9]\n",
      "[0 3 4 6 7 9] [1 2 5 8]\n"
     ]
    }
   ],
   "source": [
    "target = np.array([0, 1] * 5)\n",
    "print target\n",
    "for train_indices, test_indices in cross_validation.StratifiedKFold(target, n_folds = 2,shuffle = True):\n",
    "    print train_indices, test_indices"
   ]
  },
  {
   "cell_type": "markdown",
   "metadata": {},
   "source": [
    "## ShuffleSplit"
   ]
  },
  {
   "cell_type": "code",
   "execution_count": 43,
   "metadata": {
    "collapsed": false
   },
   "outputs": [
    {
     "name": "stdout",
     "output_type": "stream",
     "text": [
      "[2 9 3 4 5 8 7 0] [1 6]\n",
      "[7 5 0 9 2 4 8 6] [1 3]\n",
      "[9 0 3 4 1 8 2 5] [6 7]\n",
      "[9 4 3 7 6 2 5 0] [8 1]\n",
      "[9 7 3 8 2 1 6 5] [0 4]\n",
      "[3 7 4 1 0 2 6 5] [8 9]\n",
      "[8 6 2 7 0 5 4 1] [3 9]\n",
      "[9 2 1 4 0 7 8 6] [3 5]\n",
      "[9 1 4 5 3 0 2 8] [6 7]\n",
      "[7 8 6 0 4 5 2 9] [3 1]\n"
     ]
    }
   ],
   "source": [
    "for train_indices, test_indices in cross_validation.ShuffleSplit(10, n_iter = 10, test_size = 0.2):\n",
    "    print train_indices, test_indices"
   ]
  },
  {
   "cell_type": "markdown",
   "metadata": {},
   "source": [
    "## StratifiedShuffleSplit"
   ]
  },
  {
   "cell_type": "code",
   "execution_count": 44,
   "metadata": {
    "collapsed": false
   },
   "outputs": [
    {
     "name": "stdout",
     "output_type": "stream",
     "text": [
      "[0 0 0 0 0 1 1 1 1 1]\n",
      "[8 1 9 2 4 7 0 5] [6 3]\n",
      "[4 3 9 5 6 1 8 2] [0 7]\n",
      "[2 5 7 9 6 0 3 1] [8 4]\n",
      "[8 3 7 4 5 1 0 9] [6 2]\n"
     ]
    }
   ],
   "source": [
    "target = np.array([0] * 5 + [1] * 5)\n",
    "print target\n",
    "for train_indices, test_indices in cross_validation.StratifiedShuffleSplit(target, n_iter = 4, test_size = 0.2):\n",
    "    print train_indices, test_indices"
   ]
  },
  {
   "cell_type": "markdown",
   "metadata": {},
   "source": [
    "## Leave-One-Out"
   ]
  },
  {
   "cell_type": "code",
   "execution_count": 45,
   "metadata": {
    "collapsed": false
   },
   "outputs": [
    {
     "name": "stdout",
     "output_type": "stream",
     "text": [
      "[1 2 3 4 5 6 7 8 9] [0]\n",
      "[0 2 3 4 5 6 7 8 9] [1]\n",
      "[0 1 3 4 5 6 7 8 9] [2]\n",
      "[0 1 2 4 5 6 7 8 9] [3]\n",
      "[0 1 2 3 5 6 7 8 9] [4]\n",
      "[0 1 2 3 4 6 7 8 9] [5]\n",
      "[0 1 2 3 4 5 7 8 9] [6]\n",
      "[0 1 2 3 4 5 6 8 9] [7]\n",
      "[0 1 2 3 4 5 6 7 9] [8]\n",
      "[0 1 2 3 4 5 6 7 8] [9]\n"
     ]
    }
   ],
   "source": [
    "for train_indices, test_index in cross_validation.LeaveOneOut(10):\n",
    "    print train_indices, test_index"
   ]
  },
  {
   "cell_type": "markdown",
   "metadata": {},
   "source": [
    "## LinearRegression"
   ]
  },
  {
   "cell_type": "code",
   "execution_count": 46,
   "metadata": {
    "collapsed": true
   },
   "outputs": [],
   "source": [
    "linear_regressor = linear_model.LinearRegression()\n",
    "linear_regressor.fit(train_data, train_labels)\n",
    "predictions = linear_regressor.predict(test_data)"
   ]
  },
  {
   "cell_type": "code",
   "execution_count": 47,
   "metadata": {
    "collapsed": false
   },
   "outputs": [
    {
     "data": {
      "text/plain": [
       "array([ 20.8,  30.1,  34.9,  36.2,  23.2,  24.5,  24.5,  32.7,  24. ,\n",
       "        15.2,  23.8,  25. ,  28. ,   7.2,  15. ,  18.4,  23.7,  24.1,\n",
       "        14.3,  18.8,  21.4,  19.4,  18.1,  19.9,  17.8,  44.8,  10.5,\n",
       "        19.7,  19.4,  33.4,  22.6,  20.1,  16.8,  19.1,  16.1,  26.2,\n",
       "        12.1,  26.4,  22.6,   8.5,  22.5,  24.4,   8.3,  23.1,  16.1,\n",
       "        33.2,  35.4,  24.8,  35.1,  17.6,  17.2,  43.5,  18.7,  50. ,\n",
       "        21.4,  23.7,  41.7,  15.6,  22.4,  39.8,  32. ,  27.5,  24.4,\n",
       "        14.3,  34.9,  20.3,  27.5,  36.4,  18.5,  19.7,  22.1,  16. ,\n",
       "         8.7,  23.9,  50. ,  45.4,  42.3,  27.9,  19.5,  10.5,  28.5,\n",
       "        22.3,  20.3,  13.9,  29.1,  31. ,  14.2,  24.4,  23. ,  18.9,\n",
       "        12. ,  20.5,  15.6,  13.6,  19.9,  22.9,  34.9,  31.5,  21.4,\n",
       "        17.7,  16.5,  46.7,  20. ,  31.6,  19.3,   5. ,  14.9,  27.9,\n",
       "        19.1,  17.8,  34.6,  10.9,  20.3,  15.2,  50. ,   8.5,  19.2,\n",
       "        20.4,  22.8,  23.7,  13.1,  21.5,  23.8,  43.8,  24.7,  50. ,\n",
       "        22.5,   7.4,  23.1,  26.7,   7.2,   5.6,   9.6,   8.4,  10.4,\n",
       "        42.8,  23.5,  14.4,  22.7,  17.8,  13.8,  50. ,  25. ,  22.2,\n",
       "        14.6,  20.5,  16.7,  18.4,  27.1,  19.4,   7.2,  17.9])"
      ]
     },
     "execution_count": 47,
     "metadata": {},
     "output_type": "execute_result"
    }
   ],
   "source": [
    "test_labels"
   ]
  },
  {
   "cell_type": "code",
   "execution_count": 48,
   "metadata": {
    "collapsed": false
   },
   "outputs": [
    {
     "data": {
      "text/plain": [
       "array([ 22.45130694,  34.52537733,  34.07228442,  27.42973416,\n",
       "        17.27010405,  20.59110481,  21.06371958,  29.83013046,\n",
       "        29.48701433,  19.20378311,  22.03690444,  24.09829702,\n",
       "        28.34871584,  17.93400442,  15.88040788,  19.38952008,\n",
       "        27.22376942,  29.96407256,  16.76363061,  20.0545573 ,\n",
       "        20.15765348,  26.47012548,  17.1527162 ,  17.73558091,\n",
       "        10.14279279,  37.16220039,  13.42604444,  14.04768138,\n",
       "        22.84469022,  35.70968275,  26.49617971,  21.12414689,\n",
       "        21.06900616,  19.09578858,  18.47668278,  23.92952884,\n",
       "        18.21164788,  22.40454651,  25.86396074,   8.67398823,\n",
       "        17.48566925,  24.12531154,   9.99873089,  20.73643052,\n",
       "        18.66492065,  31.24885049,  33.652351  ,  26.09302988,\n",
       "        34.72571468,  16.17259324,  16.44957581,  38.60850472,\n",
       "        21.49613778,  24.5135615 ,  22.45490124,  26.12799058,\n",
       "        36.82556503,  20.75206464,  23.12546383,  33.91790746,\n",
       "        33.95101101,  24.15860864,  23.75951971,  14.14030984,\n",
       "        35.4164803 ,  21.60236492,  19.37244548,  32.46002212,\n",
       "        19.36032546,  21.08510445,  26.55303485,  18.62698634,\n",
       "         9.07219742,  27.47085946,  35.16147518,  37.80013114,\n",
       "        37.50966392,  19.8918042 ,  17.03778547,   7.0649033 ,\n",
       "        34.83846751,  27.39738356,  18.48496947,  17.8132827 ,\n",
       "        31.87032385,  33.98403447,  18.09140584,  28.49234717,\n",
       "        22.70356788,  18.25153827,  11.63244026,  19.52748617,\n",
       "        15.69481029,  12.68234748,  19.55353364,  22.38616146,\n",
       "        31.18627429,  31.73186604,  21.63399651,  19.9833764 ,\n",
       "        11.06493865,  34.6679953 ,  18.50296105,  34.27998204,\n",
       "        20.20533738,   7.77462119,  15.02820545,  33.3274593 ,\n",
       "        16.85760301,  22.20827178,  34.72822498,  14.72115339,\n",
       "        22.44329867,  11.03872601,  40.84206024,  16.36768164,\n",
       "        19.82315569,  22.60257411,  23.98272627,  28.21251671,\n",
       "        20.17778007,  24.97192882,  24.52009634,  34.12367673,\n",
       "        22.80984761,  35.61267461,  21.77005878,   6.53886886,\n",
       "        26.47801067,  32.96700161,   8.68054514,  12.5155625 ,\n",
       "        14.60157049,  14.62015763,  16.63907099,  29.46953823,\n",
       "        31.18385707,   8.72428098,  22.99148032,  17.31321076,\n",
       "        20.15233223,  23.39102507,  29.21647448,  22.14861167,\n",
       "         9.02197817,  20.55143163,  20.01065536,  15.71836085,\n",
       "        26.0655423 ,  17.32883068,   9.67995693,   1.96447383])"
      ]
     },
     "execution_count": 48,
     "metadata": {},
     "output_type": "execute_result"
    }
   ],
   "source": [
    "predictions"
   ]
  },
  {
   "cell_type": "code",
   "execution_count": 52,
   "metadata": {
    "collapsed": false
   },
   "outputs": [
    {
     "data": {
      "text/plain": [
       "3.7672057860512527"
      ]
     },
     "execution_count": 52,
     "metadata": {},
     "output_type": "execute_result"
    }
   ],
   "source": [
    "metrics.mean_absolute_error(test_labels, predictions)"
   ]
  },
  {
   "cell_type": "code",
   "execution_count": 53,
   "metadata": {
    "collapsed": true
   },
   "outputs": [],
   "source": [
    "linear_scoring = cross_validation.cross_val_score(linear_regressor,boston.data, boston.target, scoring = 'mean_absolute_error',cv=10)"
   ]
  },
  {
   "cell_type": "code",
   "execution_count": 54,
   "metadata": {
    "collapsed": false
   },
   "outputs": [
    {
     "name": "stdout",
     "output_type": "stream",
     "text": [
      "mean: -4.01035270206, std: 2.08589385191\n"
     ]
    }
   ],
   "source": [
    "print 'mean: {}, std: {}'.format(linear_scoring.mean(), linear_scoring.std())"
   ]
  },
  {
   "cell_type": "code",
   "execution_count": 56,
   "metadata": {
    "collapsed": false
   },
   "outputs": [],
   "source": [
    "scorer = metrics.make_scorer(metrics.mean_absolute_error, greater_is_better = True)"
   ]
  },
  {
   "cell_type": "code",
   "execution_count": 60,
   "metadata": {
    "collapsed": true
   },
   "outputs": [],
   "source": [
    "linear_scoring = cross_validation.cross_val_score(linear_regressor,boston.data, boston.target, scoring = scorer,cv=10)"
   ]
  },
  {
   "cell_type": "code",
   "execution_count": 61,
   "metadata": {
    "collapsed": false
   },
   "outputs": [
    {
     "name": "stdout",
     "output_type": "stream",
     "text": [
      "mean: 4.01035270206, std: 2.08589385191\n"
     ]
    }
   ],
   "source": [
    "print 'mean: {}, std: {}'.format(linear_scoring.mean(), linear_scoring.std())"
   ]
  },
  {
   "cell_type": "code",
   "execution_count": 63,
   "metadata": {
    "collapsed": false
   },
   "outputs": [
    {
     "data": {
      "text/plain": [
       "array([ -7.64073944e-02,   7.23902800e-02,   9.35694160e-03,\n",
       "         3.36368255e+00,  -1.37907284e+01,   3.60807335e+00,\n",
       "        -4.55541275e-03,  -1.49747981e+00,   3.11578189e-01,\n",
       "        -1.46126047e-02,  -7.93749015e-01,   9.85689726e-03,\n",
       "        -5.09457140e-01])"
      ]
     },
     "execution_count": 63,
     "metadata": {},
     "output_type": "execute_result"
    }
   ],
   "source": [
    "linear_regressor.coef_"
   ]
  },
  {
   "cell_type": "code",
   "execution_count": 65,
   "metadata": {
    "collapsed": false
   },
   "outputs": [
    {
     "name": "stdout",
     "output_type": "stream",
     "text": [
      "y = -0.08*x1 + 0.07*x2\n"
     ]
    }
   ],
   "source": [
    "print \"y = {:.2f}*x1 + {:.2f}*x2\".format(linear_regressor.coef_[0], linear_regressor.coef_[1])"
   ]
  },
  {
   "cell_type": "markdown",
   "metadata": {},
   "source": [
    "## lasso"
   ]
  },
  {
   "cell_type": "code",
   "execution_count": 66,
   "metadata": {
    "collapsed": true
   },
   "outputs": [],
   "source": [
    "lasso_regressor = linear_model.Lasso(random_state = 3)\n",
    "lasso_regressor.fit(train_data, train_labels)\n",
    "lasso_predictions = lasso_regressor.predict(test_data)"
   ]
  },
  {
   "cell_type": "code",
   "execution_count": 67,
   "metadata": {
    "collapsed": false
   },
   "outputs": [
    {
     "name": "stdout",
     "output_type": "stream",
     "text": [
      "mean: 4.06778358251, std: 1.46740972035\n"
     ]
    }
   ],
   "source": [
    "lasso_scoring = cross_validation.cross_val_score(lasso_regressor, boston.data, boston.target, scoring = scorer, cv = 10)\n",
    "print 'mean: {}, std: {}'.format(lasso_scoring.mean(), lasso_scoring.std())"
   ]
  },
  {
   "cell_type": "code",
   "execution_count": 68,
   "metadata": {
    "collapsed": false
   },
   "outputs": [
    {
     "data": {
      "text/plain": [
       "array([-0.04566636,  0.08151087, -0.        ,  0.        , -0.        ,\n",
       "        0.69977257,  0.01863088, -0.86988759,  0.29959467, -0.01831387,\n",
       "       -0.6215149 ,  0.00916854, -0.72976437])"
      ]
     },
     "execution_count": 68,
     "metadata": {},
     "output_type": "execute_result"
    }
   ],
   "source": [
    "lasso_regressor.coef_"
   ]
  },
  {
   "cell_type": "code",
   "execution_count": 69,
   "metadata": {
    "collapsed": false
   },
   "outputs": [
    {
     "name": "stdout",
     "output_type": "stream",
     "text": [
      "y = -0.05*x1 + 0.08*x2\n"
     ]
    }
   ],
   "source": [
    "print \"y = {:.2f}*x1 + {:.2f}*x2\".format(lasso_regressor.coef_[0], lasso_regressor.coef_[1])"
   ]
  },
  {
   "cell_type": "code",
   "execution_count": null,
   "metadata": {
    "collapsed": true
   },
   "outputs": [],
   "source": []
  }
 ],
 "metadata": {
  "kernelspec": {
   "display_name": "Python 2",
   "language": "python",
   "name": "python2"
  },
  "language_info": {
   "codemirror_mode": {
    "name": "ipython",
    "version": 2
   },
   "file_extension": ".py",
   "mimetype": "text/x-python",
   "name": "python",
   "nbconvert_exporter": "python",
   "pygments_lexer": "ipython2",
   "version": "2.7.11"
  }
 },
 "nbformat": 4,
 "nbformat_minor": 0
}
